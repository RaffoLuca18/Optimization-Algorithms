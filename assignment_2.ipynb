{
 "cells": [
  {
   "cell_type": "markdown",
   "metadata": {},
   "source": [
    "# Programming assignment 2"
   ]
  },
  {
   "cell_type": "markdown",
   "metadata": {},
   "source": [
    "Consider a set of pictures from 360° camera mounted inside a merry-go-round. They were taken at night and only one seat is visible which emits light – the seat in the shape of a jelly fish. We know that the merry-go-round rotates clockwise and that all the pictures were taken during a single cycle of merry-go-round. Given that the first picture is P1, your task is to sort the rest in the chronological order. Assume that the move of jelly fish is monotonous in horizontal direction, i.e., it always moves in clockwise direction, never backwards.\n",
    "\n",
    "Input files: text files, each of them with 10 rows and 80 columns representing the brightness level in the given parts of the picture. Jelly fish can be recognized by high brightness (value 1 to 9) on a black background (value 0).\n",
    "\n",
    "`00000000000000000000000000000000000000000000000000000000000000000000000000000000\n",
    "00000000000000000000000000000000000000000000000000000000000000000000000000000000\n",
    "00000000000000000000000000000000000000000000000000000000000000000000000000000000\n",
    "00000000000000000000000000000000000000000000000000000000000000000000000000000000\n",
    "00000000000000000000000000000000000000000000000000000000000000000000000000000000\n",
    "00000000000000000000000000000000000005950000000000000000000000000000000000000000\n",
    "00000000000000000000000000000000000009990000000000000000000000000000000000000000\n",
    "00000000000000000000000000000000000005950000000000000000000000000000000000000000\n",
    "00000000000000000000000000000000000003930000000000000000000000000000000000000000\n",
    "00000000000000000000000000000000000000000000000000000000000000000000000000000000`"
   ]
  },
  {
   "cell_type": "markdown",
   "metadata": {},
   "source": [
    "In order to capture the movement of the jelly fish between two pictures, use **Earth-mover distance**, also known as **Wasserstein distance**. It can be formulated as a min-cost flow problem on a certain network. Use [NetworkX package](https://networkx.org) to perform the optimization required to find this flow.\n",
    "\n",
    "### About Earth-mover distance:\n",
    "\n",
    "Consider two distributions over a discrete set of points $P$: $\\mu(p)$ in $[0,1]^P$ and $\\lambda(q)$ in $[0, 1]^Q$. \n",
    "\n",
    "Since both are distributions and the sum of $\\mu(p)$ over all points in $P$ is 1 (and the same holds for $\\lambda$), there is surely a way to transform $\\mu$ into $\\lambda$. We denote $f_{p, q}$ as the probability mass transferred from point $p$ to $q$ for each pair of points $(p, q)$ from $P$, in order to transform $\\mu$ into $\\lambda$:\n",
    "\n",
    "For each $p$ in $P$: \n",
    "$\\sum qf_{p, q} = \\mu(p)$\n",
    "\n",
    "and for each $q$ in $Q$: \n",
    "$\\sum pf_{p, q} = \\lambda(q)$.\n",
    "\n",
    "Note that $f_{p, p}$ denotes the probability mass which remains at the same place. Let $d(p, q)$ denote the distance between $p$ and $q$. Then, the cost of the transformation $f$ is:\n",
    "\n",
    "$$\\sum_{p, q}f_{p, q} d(p, q)$$\n",
    "\n",
    "The earth-mover distance of $\\mu$ and $\\lambda$ is then the cost of the cheapest transformation between $\\mu$ and $\\lambda$.\n"
   ]
  }
 ],
 "metadata": {
  "language_info": {
   "name": "python"
  },
  "orig_nbformat": 4
 },
 "nbformat": 4,
 "nbformat_minor": 2
}
