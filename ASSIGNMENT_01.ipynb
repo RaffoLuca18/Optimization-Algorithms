{
 "cells": [
  {
   "cell_type": "markdown",
   "metadata": {},
   "source": [
    "# Programming assignment 1"
   ]
  },
  {
   "cell_type": "markdown",
   "metadata": {},
   "source": [
    "You should submit your python code as a solution. Use the PuLP library https://pypi.org/project/PuLP/ to solve the following problems. Documentation to PuLP can be found here: https://coin-or.github.io/pulp/main/index.html\n",
    "\n",
    "A few hints To surpress the messages from the solver, you can use `GLPK(msg = 0)` (if you use GLPK) or `PULP_CBC_CMD(msg=False)` (if you use CBC) or a similar option for other solvers as a solver parameter of `solve()` method.\n",
    "\n",
    "You can use function `value()` to evaluate any expression involving the variables in the optimal solution. If you need many variables, it might be good to introduce them using an array of their names using `dicts()` method and use the returned dictionary to access them.\n",
    "\n"
   ]
  },
  {
   "cell_type": "markdown",
   "metadata": {},
   "source": [
    "### Part 1"
   ]
  },
  {
   "cell_type": "markdown",
   "metadata": {},
   "source": [
    "Solve the following program:\n",
    "\n",
    "Objective:\n",
    "`min 122x + 143y`\n",
    "\n",
    "Subject to:\n",
    "1. `x ≥ -10`\n",
    "2. `y ≤  10`\n",
    "3. `3x +  2y ≤  10`\n",
    "4. `12x + 14y ≥ -12.5`\n",
    "5. `2x +  3y ≥   3`\n",
    "6. `5x -  6y ≥ -100`\n",
    "\n",
    "Required output example:\n",
    "- Optimal solution: `x = 0.1 y = -2.3`\n",
    "- Objective value: `100.1214`\n",
    "- Tight constraints: 1, 2, 4\n",
    "- Unique optimal solution: `NO`\n",
    "\n",
    "So, your program should find the optimal solution, determine its objective value, identify the tight constraints and decide whether the optimal solution is unique.\n",
    "Note that, in the problem, there are only two directions perpendicular to the objective.\n"
   ]
  },
  {
   "cell_type": "code",
   "execution_count": null,
   "metadata": {
    "vscode": {
     "languageId": "plaintext"
    }
   },
   "outputs": [],
   "source": [
    "from pulp import *\n",
    "\n",
    "# Define the problem\n",
    "exer1 = pulp.LpProblem(\"exer1\", LpMinimize)\n",
    "\n",
    "# Define the decision variables\n",
    "x = LpVariable(\"x\")\n",
    "y = LpVariable(\"y\")\n",
    "\n",
    "# Define the objective function\n",
    "exer1 += 122 * x + 143 * y\n",
    "\n",
    "# Define the constraints\n",
    "exer1 += x >= -10\n",
    "exer1 += y <= 10\n",
    "exer1 += 3 * x + 2 * y <= 10\n",
    "exer1 += 12 * x + 14 * y >= -12.5\n",
    "exer1 += 2 * x + 3 * y >= 3\n",
    "exer1 += 5 * x - 6 * y >= -100\n",
    "\n",
    "# Solve the problem\n",
    "exer1.solve()\n",
    "\n",
    "# Save the constraints\n",
    "constraints = []\n",
    "\n",
    "for constraint in exer1.constraints.values():\n",
    "    constraints.append(constraint)\n",
    "\n",
    "# Save the tight constraints\n",
    "tight_constraints = []\n",
    "    \n",
    "for i in range(6):\n",
    "    if constraints[i].slack == 0:\n",
    "        tight_constraints.append(i+1)\n",
    "\n",
    "# Print the results\n",
    "print(\"Objective value:\", value(exer1.objective))\n",
    "for variable in exer1.variables():\n",
    "    print(variable.name, \"=\", variable.varValue)\n",
    "print(\"Tight constraints are:\", tight_constraints)"
   ]
  },
  {
   "cell_type": "markdown",
   "metadata": {},
   "source": [
    "### Part 2"
   ]
  },
  {
   "cell_type": "markdown",
   "metadata": {},
   "source": [
    "Find an optimal mixed strategy of the following game:\n",
    "\n",
    "Both players choose independently a single integer from 1 to 6. Then, the numbers are compared:\n",
    "\n",
    "- If they are equal, there is a draw \n",
    "- If they differ by 1, the player who played the smaller number gets 2EUR from the other player \n",
    "- If they differ by ≥2, the player who played the larger number gets 1EUR from the other player \n",
    "\n",
    "Note that the game is symmetric and the same strategy is optimal for both players.\n",
    "\n",
    "**Required output example:**\n",
    "\n",
    "- **x1:** 0.2 \n",
    "- **x2:** 0.1 \n",
    "- **x3:** 0.2 \n",
    "- **x4:** 0.1 \n",
    "- **x5:** 0.2 \n",
    "- **x6:** 0.2\n"
   ]
  },
  {
   "cell_type": "code",
   "execution_count": null,
   "metadata": {
    "vscode": {
     "languageId": "plaintext"
    }
   },
   "outputs": [],
   "source": [
    "from pulp import *\n",
    "\n",
    "# Define the model\n",
    "exer2 = LpProblem(\"exer2\", LpMaximize)\n",
    "\n",
    "# Define the variables\n",
    "x1 = LpVariable(\"x1\", lowBound=0, upBound=1, cat='Continuous')\n",
    "x2 = LpVariable(\"x2\", lowBound=0, upBound=1, cat='Continuous')\n",
    "x3 = LpVariable(\"x3\", lowBound=0, upBound=1, cat='Continuous')\n",
    "x4 = LpVariable(\"x4\", lowBound=0, upBound=1, cat='Continuous')\n",
    "x5 = LpVariable(\"x5\", lowBound=0, upBound=1, cat='Continuous')\n",
    "x6 = LpVariable(\"x6\", lowBound=0, upBound=1, cat='Continuous')\n",
    "x0 = LpVariable(\"x0\", cat='Continuous')\n",
    "\n",
    "# Define the objective function\n",
    "exer2 += x0\n",
    "\n",
    "# Define the constraints\n",
    "exer2 += x0 <= -2*x1+x3+x4+x5+x6\n",
    "exer2 += x0 <= 2*x1-2*x3+x4+x5+x6\n",
    "exer2 += x0 <= -x1+2*x2-2*x4+x5+x6\n",
    "exer2 += x0 <= -x1-x2+2*x3-2*x5+x6\n",
    "exer2 += x0 <= -x1-x2-x3+2*x4-2*x6\n",
    "exer2 += x0 <= -x1-x2-x3-x4+2*x5\n",
    "exer2 += x1+x2+x3+x4+x5+x6 >= 1\n",
    "exer2 += x1+x2+x3+x4+x5+x6 <= 1\n",
    "exer2 += x1 >= 0\n",
    "exer2 += x2 >= 0\n",
    "exer2 += x3 >= 0\n",
    "exer2 += x4 >= 0\n",
    "exer2 += x5 >= 0\n",
    "exer2 += x6 >= 0\n",
    "# Solve the model\n",
    "exer2.solve()\n",
    "\n",
    "# Print the results\n",
    "print(\"Optimal obejctive:\")\n",
    "print(f\"x0 = {x0.varValue}\")\n",
    "print(\"Optimal mixed strategy:\")\n",
    "print(f\"x1 = {x1.varValue}\")\n",
    "print(f\"x2 = {x2.varValue}\")\n",
    "print(f\"x3 = {x3.varValue}\")\n",
    "print(f\"x4 = {x4.varValue}\")\n",
    "print(f\"x5 = {x5.varValue}\")\n",
    "print(f\"x6 = {x6.varValue}\")"
   ]
  },
  {
   "cell_type": "markdown",
   "metadata": {},
   "source": [
    "### Part 3"
   ]
  },
  {
   "cell_type": "markdown",
   "metadata": {},
   "source": [
    "On an Imaginary Island's Contract Inspection\n",
    "\n",
    "On some imaginary island, there are 69 companies and bilateral contracts between them. The monarch of the island wishes to inspect the validity of each of these contracts during one grand event. For each contract, the monarch demands two representatives to stand for the contract relationship (they can either be from the same party of the contract or one from each party). By the default approach, each company would send one representative, hence requiring a total of 69 representatives. However, the companies aim to determine a solution that reduces the overall number of representatives present.\n",
    "\n",
    "The input file, `hw1-03.txt`, provides details about these contracts. Each line denotes a separate contract and includes identifiers (ranging from 1-69) of the two involved parties, separated by a space.\n",
    "\n",
    "Example Output:\n",
    "\n",
    "- **representatives from company 1:** 1.0\n",
    "- **representatives from company 2:** 2.0\n",
    "- **representatives from company 3:** 1.0\n",
    "...\n",
    "- **representatives from company 69:** 1.0\n",
    "\n",
    "**Total number of representatives involved:** 58\n",
    "\n",
    "> **Important:** Sending a fractional representative is not permissible. However, the LP relaxation's solution suffices, as it already yields an integral outcome. The justification behind this will be elaborated upon in subsequent classes.\n"
   ]
  },
  {
   "cell_type": "code",
   "execution_count": null,
   "metadata": {
    "vscode": {
     "languageId": "plaintext"
    }
   },
   "outputs": [],
   "source": [
    "import pulp\n",
    "\n",
    "# Define the model\n",
    "problem = pulp.LpProblem(\"Contracts\", pulp.LpMinimize)\n",
    "\n",
    "x = []\n",
    "contr = []\n",
    "\n",
    "# Define the variables\n",
    "\n",
    "for i in range(69):\n",
    "    x.append(i)\n",
    "\n",
    "for i in range(69):\n",
    "    x[i] = pulp.LpVariable(\"x_{}\".format(i+1), lowBound=0, cat='Discrete')\n",
    "\n",
    "file = \"hw1-03.txt\"\n",
    "with open(file, \"r\") as file:\n",
    "    lines = file.readlines()\n",
    "\n",
    "lines = [line.strip() for line in lines]\n",
    "\n",
    "for line in lines:\n",
    "    contr.append(line)\n",
    "\n",
    "# Define the objective function\n",
    "problem += sum(x)\n",
    "\n",
    "# Define the constraints\n",
    "\n",
    "for i in range(len(contr)):\n",
    "    a, b = contr[i].split()\n",
    "    a = int(a)\n",
    "    b = int(b)\n",
    "    problem += x[a-1] + x[b-1] >= 2\n",
    "\n",
    "# Solve the problem\n",
    "problem.solve()\n",
    "\n",
    "# Print the results\n",
    "print(\"Objective value:\", pulp.value(problem.objective))\n",
    "\n",
    "for variable in problem.variables():\n",
    "    print(variable.name, \"=\", variable.varValue)"
   ]
  }
 ],
 "metadata": {
  "language_info": {
   "name": "python"
  },
  "orig_nbformat": 4
 },
 "nbformat": 4,
 "nbformat_minor": 2
}
